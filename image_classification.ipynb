{
 "cells": [
  {
   "cell_type": "markdown",
   "metadata": {
    "collapsed": true
   },
   "source": [
    "# Image Classification\n",
    "In this project, you'll classify images from the [CIFAR-10 dataset](https://www.cs.toronto.edu/~kriz/cifar.html).  The dataset consists of airplanes, dogs, cats, and other objects. You'll preprocess the images, then train a convolutional neural network on all the samples. The images need to be normalized and the labels need to be one-hot encoded.  You'll get to apply what you learned and build a convolutional, max pooling, dropout, and fully connected layers.  At the end, you'll get to see your neural network's predictions on the sample images.\n",
    "## Get the Data\n",
    "Run the following cell to download the [CIFAR-10 dataset for python](https://www.cs.toronto.edu/~kriz/cifar-10-python.tar.gz)."
   ]
  },
  {
   "cell_type": "code",
   "execution_count": 1,
   "metadata": {},
   "outputs": [
    {
     "name": "stderr",
     "output_type": "stream",
     "text": [
      "C:\\ProgramData\\Anaconda3\\lib\\site-packages\\h5py\\__init__.py:34: FutureWarning: Conversion of the second argument of issubdtype from `float` to `np.floating` is deprecated. In future, it will be treated as `np.float64 == np.dtype(float).type`.\n",
      "  from ._conv import register_converters as _register_converters\n"
     ]
    },
    {
     "name": "stdout",
     "output_type": "stream",
     "text": [
      "All files found!\n"
     ]
    }
   ],
   "source": [
    "\"\"\"\n",
    "DON'T MODIFY ANYTHING IN THIS CELL THAT IS BELOW THIS LINE\n",
    "\"\"\"\n",
    "from urllib.request import urlretrieve\n",
    "from os.path import isfile, isdir\n",
    "from tqdm import tqdm\n",
    "import problem_unittests as tests\n",
    "import tarfile\n",
    "\n",
    "cifar10_dataset_folder_path = 'cifar-10-batches-py'\n",
    "\n",
    "class DLProgress(tqdm):\n",
    "    last_block = 0\n",
    "\n",
    "    def hook(self, block_num=1, block_size=1, total_size=None):\n",
    "        self.total = total_size\n",
    "        self.update((block_num - self.last_block) * block_size)\n",
    "        self.last_block = block_num\n",
    "\n",
    "if not isfile('cifar-10-python.tar.gz'):\n",
    "    with DLProgress(unit='B', unit_scale=True, miniters=1, desc='CIFAR-10 Dataset') as pbar:\n",
    "        urlretrieve(\n",
    "            'https://www.cs.toronto.edu/~kriz/cifar-10-python.tar.gz',\n",
    "            'cifar-10-python.tar.gz',\n",
    "            pbar.hook)\n",
    "\n",
    "if not isdir(cifar10_dataset_folder_path):\n",
    "    with tarfile.open('cifar-10-python.tar.gz') as tar:\n",
    "        tar.extractall()\n",
    "        tar.close()\n",
    "\n",
    "\n",
    "tests.test_folder_path(cifar10_dataset_folder_path)"
   ]
  },
  {
   "cell_type": "markdown",
   "metadata": {},
   "source": [
    "## Explore the Data\n",
    "The dataset is broken into batches to prevent your machine from running out of memory.  The CIFAR-10 dataset consists of 5 batches, named `data_batch_1`, `data_batch_2`, etc.. Each batch contains the labels and images that are one of the following:\n",
    "* airplane\n",
    "* automobile\n",
    "* bird\n",
    "* cat\n",
    "* deer\n",
    "* dog\n",
    "* frog\n",
    "* horse\n",
    "* ship\n",
    "* truck\n",
    "\n",
    "Understanding a dataset is part of making predictions on the data.  Play around with the code cell below by changing the `batch_id` and `sample_id`. The `batch_id` is the id for a batch (1-5). The `sample_id` is the id for a image and label pair in the batch.\n",
    "\n",
    "Ask yourself \"What are all possible labels?\", \"What is the range of values for the image data?\", \"Are the labels in order or random?\".  Answers to questions like these will help you preprocess the data and end up with better predictions."
   ]
  },
  {
   "cell_type": "code",
   "execution_count": 2,
   "metadata": {},
   "outputs": [
    {
     "name": "stdout",
     "output_type": "stream",
     "text": [
      "\n",
      "Stats of batch 1:\n",
      "Samples: 10000\n",
      "Label Counts: {0: 1005, 1: 974, 2: 1032, 3: 1016, 4: 999, 5: 937, 6: 1030, 7: 1001, 8: 1025, 9: 981}\n",
      "First 20 Labels: [6, 9, 9, 4, 1, 1, 2, 7, 8, 3, 4, 7, 7, 2, 9, 9, 9, 3, 2, 6]\n",
      "\n",
      "Example of Image 5:\n",
      "Image - Min Value: 0 Max Value: 252\n",
      "Image - Shape: (32, 32, 3)\n",
      "Label - Label Id: 1 Name: automobile\n"
     ]
    },
    {
     "data": {
      "image/png": "[encoded data removed]",
      "text/plain": [
       "<matplotlib.figure.Figure at 0x181948f8cf8>"
      ]
     },
     "metadata": {
      "image/png": {
       "height": 250,
       "width": 253
      }
     },
     "output_type": "display_data"
    }
   ],
   "source": [
    "%matplotlib inline\n",
    "%config InlineBackend.figure_format = 'retina'\n",
    "\n",
    "import helper\n",
    "import numpy as np\n",
    "\n",
    "# Explore the dataset\n",
    "batch_id = 1\n",
    "sample_id = 5\n",
    "helper.display_stats(cifar10_dataset_folder_path, batch_id, sample_id)"
   ]
  },
  {
   "cell_type": "markdown",
   "metadata": {},
   "source": [
    "## Implement Preprocess Functions\n",
    "### Normalize\n",
    "In the cell below, implement the `normalize` function to take in image data, `x`, and return it as a normalized Numpy array. The values should be in the range of 0 to 1, inclusive.  The return object should be the same shape as `x`."
   ]
  },
  {
   "cell_type": "code",
   "execution_count": 4,
   "metadata": {},
   "outputs": [
    {
     "name": "stdout",
     "output_type": "stream",
     "text": [
      "Tests Passed\n"
     ]
    }
   ],
   "source": [
    "def normalize(x):\n",
    "    \"\"\"\n",
    "    Normalize a list of sample image data in the range of 0 to 1\n",
    "    : x: List of image data.  The image shape is (32, 32, 3)\n",
    "    : return: Numpy array of normalize data\n",
    "    \"\"\"\n",
    "    # TODO: Implement Function\n",
    "    return np.array(x / 255)\n",
    "\n",
    "\n",
    "\"\"\"\n",
    "DON'T MODIFY ANYTHING IN THIS CELL THAT IS BELOW THIS LINE\n",
    "\"\"\"\n",
    "tests.test_normalize(normalize)"
   ]
  },
  {
   "cell_type": "markdown",
   "metadata": {},
   "source": [
    "### One-hot encode\n",
    "Just like the previous code cell, you'll be implementing a function for preprocessing.  This time, you'll implement the `one_hot_encode` function. The input, `x`, are a list of labels.  Implement the function to return the list of labels as One-Hot encoded Numpy array.  The possible values for labels are 0 to 9. The one-hot encoding function should return the same encoding for each value between each call to `one_hot_encode`.  Make sure to save the map of encodings outside the function.\n",
    "\n",
    "**Hint:**\n",
    "\n",
    "Look into LabelBinarizer in the preprocessing module of sklearn."
   ]
  },
  {
   "cell_type": "code",
   "execution_count": 5,
   "metadata": {},
   "outputs": [
    {
     "name": "stdout",
     "output_type": "stream",
     "text": [
      "Tests Passed\n"
     ]
    }
   ],
   "source": [
    "# I believe I do not entirely understand what \"save the map of encodings outside the function\" means here\n",
    "# so what I've tried to do is have an array to which I later append the encodings\n",
    "one_hot_encoded_labels = [] \n",
    "def one_hot_encode(x):\n",
    "    \"\"\"\n",
    "    One hot encode a list of sample labels. Return a one-hot encoded vector for each label.\n",
    "    : x: List of sample Labels\n",
    "    : return: Numpy array of one-hot encoded labels\n",
    "    \"\"\"\n",
    "    # TODO: Implement Function\n",
    "    global one_hot_encoded_labels \n",
    "    \n",
    "    # I guess this is okay? Without using LabelBinarizer?\n",
    "    # This was more of an experiment,  so I am not sure\n",
    "    # But it passes the test, so I figured it might be okay\n",
    "    # Is it okay?\n",
    "    \n",
    "    encoded = np.eye(10)[x]\n",
    "    one_hot_encoded_labels.append(encoded)\n",
    "    return encoded\n",
    "\n",
    "\"\"\"\n",
    "DON'T MODIFY ANYTHING IN THIS CELL THAT IS BELOW THIS LINE\n",
    "\"\"\"\n",
    "tests.test_one_hot_encode(one_hot_encode)"
   ]
  },
  {
   "cell_type": "markdown",
   "metadata": {},
   "source": [
    "### Randomize Data\n",
    "As you saw from exploring the data above, the order of the samples are randomized.  It doesn't hurt to randomize it again, but you don't need to for this dataset."
   ]
  },
  {
   "cell_type": "markdown",
   "metadata": {},
   "source": [
    "## Preprocess all the data and save it\n",
    "Running the code cell below will preprocess all the CIFAR-10 data and save it to file. The code below also uses 10% of the training data for validation."
   ]
  },
  {
   "cell_type": "code",
   "execution_count": 6,
   "metadata": {
    "collapsed": true
   },
   "outputs": [],
   "source": [
    "\"\"\"\n",
    "DON'T MODIFY ANYTHING IN THIS CELL\n",
    "\"\"\"\n",
    "# Preprocess Training, Validation, and Testing Data\n",
    "helper.preprocess_and_save_data(cifar10_dataset_folder_path, normalize, one_hot_encode)"
   ]
  },
  {
   "cell_type": "markdown",
   "metadata": {},
   "source": [
    "# Check Point\n",
    "This is your first checkpoint.  If you ever decide to come back to this notebook or have to restart the notebook, you can start from here.  The preprocessed data has been saved to disk."
   ]
  },
  {
   "cell_type": "code",
   "execution_count": 7,
   "metadata": {
    "collapsed": true
   },
   "outputs": [],
   "source": [
    "\"\"\"\n",
    "DON'T MODIFY ANYTHING IN THIS CELL\n",
    "\"\"\"\n",
    "import pickle\n",
    "import problem_unittests as tests\n",
    "import helper\n",
    "\n",
    "# Load the Preprocessed Validation data\n",
    "valid_features, valid_labels = pickle.load(open('preprocess_validation.p', mode='rb'))"
   ]
  },
  {
   "cell_type": "markdown",
   "metadata": {},
   "source": [
    "## Build the network\n",
    "For the neural network, you'll build each layer into a function.  Most of the code you've seen has been outside of functions. To test your code more thoroughly, we require that you put each layer in a function.  This allows us to give you better feedback and test for simple mistakes using our unittests before you submit your project.\n",
    "\n",
    ">**Note:** If you're finding it hard to dedicate enough time for this course each week, we've provided a small shortcut to this part of the project. In the next couple of problems, you'll have the option to use classes from the [TensorFlow Layers](https://www.tensorflow.org/api_docs/python/tf/layers) or [TensorFlow Layers (contrib)](https://www.tensorflow.org/api_guides/python/contrib.layers) packages to build each layer, except the layers you build in the \"Convolutional and Max Pooling Layer\" section.  TF Layers is similar to Keras's and TFLearn's abstraction to layers, so it's easy to pickup.\n",
    "\n",
    ">However, if you would like to get the most out of this course, try to solve all the problems _without_ using anything from the TF Layers packages. You **can** still use classes from other packages that happen to have the same name as ones you find in TF Layers! For example, instead of using the TF Layers version of the `conv2d` class, [tf.layers.conv2d](https://www.tensorflow.org/api_docs/python/tf/layers/conv2d), you would want to use the TF Neural Network version of `conv2d`, [tf.nn.conv2d](https://www.tensorflow.org/api_docs/python/tf/nn/conv2d). \n",
    "\n",
    "Let's begin!\n",
    "\n",
    "### Input\n",
    "The neural network needs to read the image data, one-hot encoded labels, and dropout keep probability. Implement the following functions\n",
    "* Implement `neural_net_image_input`\n",
    " * Return a [TF Placeholder](https://www.tensorflow.org/api_docs/python/tf/placeholder)\n",
    " * Set the shape using `image_shape` with batch size set to `None`.\n",
    " * Name the TensorFlow placeholder \"x\" using the TensorFlow `name` parameter in the [TF Placeholder](https://www.tensorflow.org/api_docs/python/tf/placeholder).\n",
    "* Implement `neural_net_label_input`\n",
    " * Return a [TF Placeholder](https://www.tensorflow.org/api_docs/python/tf/placeholder)\n",
    " * Set the shape using `n_classes` with batch size set to `None`.\n",
    " * Name the TensorFlow placeholder \"y\" using the TensorFlow `name` parameter in the [TF Placeholder](https://www.tensorflow.org/api_docs/python/tf/placeholder).\n",
    "* Implement `neural_net_keep_prob_input`\n",
    " * Return a [TF Placeholder](https://www.tensorflow.org/api_docs/python/tf/placeholder) for dropout keep probability.\n",
    " * Name the TensorFlow placeholder \"keep_prob\" using the TensorFlow `name` parameter in the [TF Placeholder](https://www.tensorflow.org/api_docs/python/tf/placeholder).\n",
    "\n",
    "These names will be used at the end of the project to load your saved model.\n",
    "\n",
    "Note: `None` for shapes in TensorFlow allow for a dynamic size."
   ]
  },
  {
   "cell_type": "code",
   "execution_count": 12,
   "metadata": {},
   "outputs": [
    {
     "name": "stdout",
     "output_type": "stream",
     "text": [
      "Image Input Tests Passed.\n",
      "Label Input Tests Passed.\n",
      "Keep Prob Tests Passed.\n"
     ]
    }
   ],
   "source": [
    "import tensorflow as tf\n",
    "\n",
    "def neural_net_image_input(image_shape):\n",
    "    \"\"\"\n",
    "    Return a Tensor for a batch of image input\n",
    "    : image_shape: Shape of the images\n",
    "    : return: Tensor for image input.\n",
    "    \"\"\"\n",
    "    # TODO: Implement Function\n",
    "    return tf.placeholder(tf.float32, [None, *image_shape], name='x')\n",
    "\n",
    "\n",
    "def neural_net_label_input(n_classes):\n",
    "    \"\"\"\n",
    "    Return a Tensor for a batch of label input\n",
    "    : n_classes: Number of classes\n",
    "    : return: Tensor for label input.\n",
    "    \"\"\"\n",
    "    # TODO: Implement Function\n",
    "    return  tf.placeholder(tf.float32, [None, n_classes], name='y')\n",
    "\n",
    "\n",
    "def neural_net_keep_prob_input():\n",
    "    \"\"\"\n",
    "    Return a Tensor for keep probability\n",
    "    : return: Tensor for keep probability.\n",
    "    \"\"\"\n",
    "    # TODO: Implement Function\n",
    "    return tf.placeholder(tf.float32, name='keep_prob')\n",
    "\n",
    "\n",
    "\"\"\"\n",
    "DON'T MODIFY ANYTHING IN THIS CELL THAT IS BELOW THIS LINE\n",
    "\"\"\"\n",
    "tf.reset_default_graph()\n",
    "tests.test_nn_image_inputs(neural_net_image_input)\n",
    "tests.test_nn_label_inputs(neural_net_label_input)\n",
    "tests.test_nn_keep_prob_inputs(neural_net_keep_prob_input)"
   ]
  },
  {
   "cell_type": "markdown",
   "metadata": {},
   "source": [
    "### Convolution and Max Pooling Layer\n",
    "Convolution layers have a lot of success with images. For this code cell, you should implement the function `conv2d_maxpool` to apply convolution then max pooling:\n",
    "* Create the weight and bias using `conv_ksize`, `conv_num_outputs` and the shape of `x_tensor`.\n",
    "* Apply a convolution to `x_tensor` using weight and `conv_strides`.\n",
    " * We recommend you use same padding, but you're welcome to use any padding.\n",
    "* Add bias\n",
    "* Add a nonlinear activation to the convolution.\n",
    "* Apply Max Pooling using `pool_ksize` and `pool_strides`.\n",
    " * We recommend you use same padding, but you're welcome to use any padding.\n",
    "\n",
    "**Note:** You **can't** use [TensorFlow Layers](https://www.tensorflow.org/api_docs/python/tf/layers) or [TensorFlow Layers (contrib)](https://www.tensorflow.org/api_guides/python/contrib.layers) for **this** layer, but you can still use TensorFlow's [Neural Network](https://www.tensorflow.org/api_docs/python/tf/nn) package. You may still use the shortcut option for all the **other** layers.\n",
    "\n",
    "** Hint: **\n",
    "\n",
    "When unpacking values as an argument in Python, look into the [unpacking](https://docs.python.org/3/tutorial/controlflow.html#unpacking-argument-lists) operator. "
   ]
  },
  {
   "cell_type": "code",
   "execution_count": 73,
   "metadata": {},
   "outputs": [
    {
     "name": "stdout",
     "output_type": "stream",
     "text": [
      "Tests Passed\n"
     ]
    }
   ],
   "source": [
    "def conv2d_maxpool(x_tensor, conv_num_outputs, conv_ksize, conv_strides, pool_ksize, pool_strides):\n",
    "    \"\"\"\n",
    "    Apply convolution then max pooling to x_tensor\n",
    "    :param x_tensor: TensorFlow Tensor\n",
    "    :param conv_num_outputs: Number of outputs for the convolutional layer\n",
    "    :param conv_ksize: kernal size 2-D Tuple for the convolutional layer\n",
    "    :param conv_strides: Stride 2-D Tuple for convolution\n",
    "    :param pool_ksize: kernal size 2-D Tuple for pool\n",
    "    :param pool_strides: Stride 2-D Tuple for pool\n",
    "    : return: A tensor that represents convolution and max pooling of x_tensor\n",
    "    \"\"\"\n",
    "    # TODO: Implement Function\n",
    "    \n",
    "    # Incoming sample values are: \n",
    "    # print(x_tensor.get_shape()) = (?, 32, 32, 5)\n",
    "    # print(conv_ksize) = (2, 2)\n",
    "    # print(conv_strides) = (4, 4)\n",
    "    \n",
    "    filter_weights = tf.Variable(tf.truncated_normal([   # because, of course\n",
    "        *conv_ksize,                                     # height & width\n",
    "        x_tensor.get_shape().as_list()[-1],              # input_depth\n",
    "        conv_num_outputs                                 # output_depth\n",
    "    ], stddev=0.08))                                      \n",
    "    \n",
    "    \n",
    "    filter_bias = tf.Variable(tf.zeros(conv_num_outputs))\n",
    "    strides = [1, *conv_strides, 1] # (batch, height, width, depth)\n",
    "    padding = 'SAME'\n",
    "    \n",
    "    conv = tf.nn.conv2d(x_tensor, filter_weights, strides, padding) + filter_bias\n",
    "    conv = tf.nn.relu(conv)\n",
    "    \n",
    "    pool_ksize = [1, *pool_ksize, 1]\n",
    "    pool_strides = [1, *pool_strides, 1]\n",
    "    conv = tf.nn.max_pool(conv, pool_ksize, pool_strides, padding)\n",
    "    \n",
    "    return conv\n",
    "\n",
    "\n",
    "\"\"\"\n",
    "DON'T MODIFY ANYTHING IN THIS CELL THAT IS BELOW THIS LINE\n",
    "\"\"\"\n",
    "tests.test_con_pool(conv2d_maxpool)"
   ]
  },
  {
   "cell_type": "markdown",
   "metadata": {},
   "source": [
    "### Flatten Layer\n",
    "Implement the `flatten` function to change the dimension of `x_tensor` from a 4-D tensor to a 2-D tensor.  The output should be the shape (*Batch Size*, *Flattened Image Size*). Shortcut option: you can use classes from the [TensorFlow Layers](https://www.tensorflow.org/api_docs/python/tf/layers) or [TensorFlow Layers (contrib)](https://www.tensorflow.org/api_guides/python/contrib.layers) packages for this layer. For more of a challenge, only use other TensorFlow packages."
   ]
  },
  {
   "cell_type": "code",
   "execution_count": 44,
   "metadata": {},
   "outputs": [
    {
     "name": "stdout",
     "output_type": "stream",
     "text": [
      "Tests Passed\n"
     ]
    }
   ],
   "source": [
    "def flatten(x_tensor):\n",
    "    \"\"\"\n",
    "    Flatten x_tensor to (Batch Size, Flattened Image Size)\n",
    "    : x_tensor: A tensor of size (Batch Size, ...), where ... are the image dimensions.\n",
    "    : return: A tensor of size (Batch Size, Flattened Image Size).\n",
    "    \"\"\"\n",
    "    # TODO: Implement Function\n",
    "    return tf.reshape(x_tensor, [-1, np.prod(x_tensor.get_shape().as_list()[1:])])\n",
    "\n",
    "\n",
    "\"\"\"\n",
    "DON'T MODIFY ANYTHING IN THIS CELL THAT IS BELOW THIS LINE\n",
    "\"\"\"\n",
    "tests.test_flatten(flatten)"
   ]
  },
  {
   "cell_type": "markdown",
   "metadata": {},
   "source": [
    "### Fully-Connected Layer\n",
    "Implement the `fully_conn` function to apply a fully connected layer to `x_tensor` with the shape (*Batch Size*, *num_outputs*). Shortcut option: you can use classes from the [TensorFlow Layers](https://www.tensorflow.org/api_docs/python/tf/layers) or [TensorFlow Layers (contrib)](https://www.tensorflow.org/api_guides/python/contrib.layers) packages for this layer. For more of a challenge, only use other TensorFlow packages."
   ]
  },
  {
   "cell_type": "code",
   "execution_count": 74,
   "metadata": {},
   "outputs": [
    {
     "name": "stdout",
     "output_type": "stream",
     "text": [
      "Tests Passed\n"
     ]
    }
   ],
   "source": [
    "def matmuladd(x_tensor, num_outputs):\n",
    "    W = tf.Variable(tf.truncated_normal([x_tensor.get_shape().as_list()[1], num_outputs], stddev=0.08))\n",
    "    b = tf.Variable(tf.zeros(num_outputs))\n",
    "    return tf.add(tf.matmul(x_tensor, W), b)\n",
    "    \n",
    "def fully_conn(x_tensor, num_outputs):\n",
    "    \"\"\"\n",
    "    Apply a fully connected layer to x_tensor using weight and bias\n",
    "    : x_tensor: A 2-D tensor where the first dimension is batch size.\n",
    "    : num_outputs: The number of output that the new tensor should be.\n",
    "    : return: A 2-D tensor where the second dimension is num_outputs.\n",
    "    \"\"\"\n",
    "    # TODO: Implement Function\n",
    "    return tf.nn.relu(matmuladd(x_tensor, num_outputs))\n",
    "\n",
    "\n",
    "\"\"\"\n",
    "DON'T MODIFY ANYTHING IN THIS CELL THAT IS BELOW THIS LINE\n",
    "\"\"\"\n",
    "tests.test_fully_conn(fully_conn)"
   ]
  },
  {
   "cell_type": "markdown",
   "metadata": {},
   "source": [
    "### Output Layer\n",
    "Implement the `output` function to apply a fully connected layer to `x_tensor` with the shape (*Batch Size*, *num_outputs*). Shortcut option: you can use classes from the [TensorFlow Layers](https://www.tensorflow.org/api_docs/python/tf/layers) or [TensorFlow Layers (contrib)](https://www.tensorflow.org/api_guides/python/contrib.layers) packages for this layer. For more of a challenge, only use other TensorFlow packages.\n",
    "\n",
    "**Note:** Activation, softmax, or cross entropy should **not** be applied to this."
   ]
  },
  {
   "cell_type": "code",
   "execution_count": 54,
   "metadata": {},
   "outputs": [
    {
     "name": "stdout",
     "output_type": "stream",
     "text": [
      "Tests Passed\n"
     ]
    }
   ],
   "source": [
    "def output(x_tensor, num_outputs):\n",
    "    \"\"\"\n",
    "    Apply a output layer to x_tensor using weight and bias\n",
    "    : x_tensor: A 2-D tensor where the first dimension is batch size.\n",
    "    : num_outputs: The number of output that the new tensor should be.\n",
    "    : return: A 2-D tensor where the second dimension is num_outputs.\n",
    "    \"\"\"\n",
    "    # TODO: Implement Function\n",
    "     \n",
    "    return matmuladd(x_tensor, num_outputs)\n",
    "\n",
    "\n",
    "\"\"\"\n",
    "DON'T MODIFY ANYTHING IN THIS CELL THAT IS BELOW THIS LINE\n",
    "\"\"\"\n",
    "tests.test_output(output)"
   ]
  },
  {
   "cell_type": "markdown",
   "metadata": {},
   "source": [
    "### Create Convolutional Model\n",
    "Implement the function `conv_net` to create a convolutional neural network model. The function takes in a batch of images, `x`, and outputs logits.  Use the layers you created above to create this model:\n",
    "\n",
    "* Apply 1, 2, or 3 Convolution and Max Pool layers\n",
    "* Apply a Flatten Layer\n",
    "* Apply 1, 2, or 3 Fully Connected Layers\n",
    "* Apply an Output Layer\n",
    "* Return the output\n",
    "* Apply [TensorFlow's Dropout](https://www.tensorflow.org/api_docs/python/tf/nn/dropout) to one or more layers in the model using `keep_prob`. "
   ]
  },
  {
   "cell_type": "code",
   "execution_count": 142,
   "metadata": {},
   "outputs": [
    {
     "name": "stdout",
     "output_type": "stream",
     "text": [
      "Neural Network Built!\n"
     ]
    }
   ],
   "source": [
    "def conv_net(x, keep_prob):\n",
    "    \"\"\"\n",
    "    Create a convolutional neural network model\n",
    "    : x: Placeholder tensor that holds image data.\n",
    "    : keep_prob: Placeholder tensor that hold dropout keep probability.\n",
    "    : return: Tensor that represents logits\n",
    "    \"\"\"\n",
    "    # TODO: Apply 1, 2, or 3 Convolution and Max Pool layers\n",
    "    #    Play around with different number of outputs, kernel size and stride\n",
    "    # Function Definition from Above:\n",
    "    #    conv2d_maxpool(x_tensor, conv_num_outputs, conv_ksize, conv_strides, pool_ksize, pool_strides)\n",
    "    \n",
    "    # 4 8 15 16 23 42, 108\n",
    "    \n",
    "    x = conv2d_maxpool(x, 32, (3, 3), (1, 1), (2, 2), (2, 2))\n",
    "    x = conv2d_maxpool(x, 128, (3, 3), (1, 1), (2, 2), (2, 2))\n",
    "    \n",
    "    # TODO: Apply a Flatten Layer\n",
    "    # Function Definition from Above:\n",
    "    #   flatten(x_tensor)\n",
    "    \n",
    "    x = flatten(x)\n",
    "\n",
    "    # TODO: Apply 1, 2, or 3 Fully Connected Layers\n",
    "    #    Play around with different number of outputs\n",
    "    # Function Definition from Above:\n",
    "    #   fully_conn(x_tensor, num_outputs)\n",
    "    \n",
    "    x = fully_conn(x, 512)\n",
    "    x = tf.nn.dropout(x, keep_prob=keep_prob)\n",
    "    x = fully_conn(x, 64)\n",
    "    x = tf.nn.dropout(x, keep_prob=keep_prob)\n",
    "    \n",
    "    # TODO: Apply an Output Layer\n",
    "    #    Set this to the number of classes\n",
    "    # Function Definition from Above:\n",
    "    #   output(x_tensor, num_outputs)\n",
    "    \n",
    "    x = output(x, 10)\n",
    "    \n",
    "    # TODO: return output\n",
    "    return x\n",
    "\n",
    "\n",
    "\"\"\"\n",
    "DON'T MODIFY ANYTHING IN THIS CELL THAT IS BELOW THIS LINE\n",
    "\"\"\"\n",
    "\n",
    "##############################\n",
    "## Build the Neural Network ##\n",
    "##############################\n",
    "\n",
    "# Remove previous weights, bias, inputs, etc..\n",
    "tf.reset_default_graph()\n",
    "\n",
    "# Inputs\n",
    "x = neural_net_image_input((32, 32, 3))\n",
    "y = neural_net_label_input(10)\n",
    "keep_prob = neural_net_keep_prob_input()\n",
    "\n",
    "# Model\n",
    "logits = conv_net(x, keep_prob)\n",
    "\n",
    "# Name logits Tensor, so that is can be loaded from disk after training\n",
    "logits = tf.identity(logits, name='logits')\n",
    "\n",
    "# Loss and Optimizer\n",
    "cost = tf.reduce_mean(tf.nn.softmax_cross_entropy_with_logits(logits=logits, labels=y))\n",
    "optimizer = tf.train.AdamOptimizer().minimize(cost)\n",
    "\n",
    "# Accuracy\n",
    "correct_pred = tf.equal(tf.argmax(logits, 1), tf.argmax(y, 1))\n",
    "accuracy = tf.reduce_mean(tf.cast(correct_pred, tf.float32), name='accuracy')\n",
    "\n",
    "tests.test_conv_net(conv_net)"
   ]
  },
  {
   "cell_type": "markdown",
   "metadata": {},
   "source": [
    "## Train the Neural Network\n",
    "### Single Optimization\n",
    "Implement the function `train_neural_network` to do a single optimization.  The optimization should use `optimizer` to optimize in `session` with a `feed_dict` of the following:\n",
    "* `x` for image input\n",
    "* `y` for labels\n",
    "* `keep_prob` for keep probability for dropout\n",
    "\n",
    "This function will be called for each batch, so `tf.global_variables_initializer()` has already been called.\n",
    "\n",
    "Note: Nothing needs to be returned. This function is only optimizing the neural network."
   ]
  },
  {
   "cell_type": "code",
   "execution_count": 67,
   "metadata": {},
   "outputs": [
    {
     "name": "stdout",
     "output_type": "stream",
     "text": [
      "Tests Passed\n"
     ]
    }
   ],
   "source": [
    "def train_neural_network(session, optimizer, keep_probability, feature_batch, label_batch):\n",
    "    \"\"\"\n",
    "    Optimize the session on a batch of images and labels\n",
    "    : session: Current TensorFlow session\n",
    "    : optimizer: TensorFlow optimizer function\n",
    "    : keep_probability: keep probability\n",
    "    : feature_batch: Batch of Numpy image data\n",
    "    : label_batch: Batch of Numpy label data\n",
    "    \"\"\"\n",
    "    # TODO: Implement Function\n",
    "    session.run(optimizer, feed_dict={x:feature_batch, y:label_batch, keep_prob:keep_probability})\n",
    "\n",
    "\n",
    "\"\"\"\n",
    "DON'T MODIFY ANYTHING IN THIS CELL THAT IS BELOW THIS LINE\n",
    "\"\"\"\n",
    "tests.test_train_nn(train_neural_network)"
   ]
  },
  {
   "cell_type": "markdown",
   "metadata": {},
   "source": [
    "### Show Stats\n",
    "Implement the function `print_stats` to print loss and validation accuracy.  Use the global variables `valid_features` and `valid_labels` to calculate validation accuracy.  Use a keep probability of `1.0` to calculate the loss and validation accuracy."
   ]
  },
  {
   "cell_type": "code",
   "execution_count": 69,
   "metadata": {
    "collapsed": true
   },
   "outputs": [],
   "source": [
    "def print_stats(session, feature_batch, label_batch, cost, accuracy):\n",
    "    \"\"\"\n",
    "    Print information about loss and validation accuracy\n",
    "    : session: Current TensorFlow session\n",
    "    : feature_batch: Batch of Numpy image data\n",
    "    : label_batch: Batch of Numpy label data\n",
    "    : cost: TensorFlow cost function\n",
    "    : accuracy: TensorFlow accuracy function\n",
    "    \"\"\"\n",
    "    # TODO: Implement Function\n",
    "    loss = session.run(cost, feed_dict={x:feature_batch, y:label_batch, keep_prob:1.0})\n",
    "    acc = session.run(accuracy, feed_dict={x:valid_features, y:valid_labels, keep_prob:1.0})\n",
    "    print(\"Training Loss: {0:.6f}, Validation Accuracy: {1:.6f}\".format(loss, acc))"
   ]
  },
  {
   "cell_type": "markdown",
   "metadata": {},
   "source": [
    "### Hyperparameters\n",
    "Tune the following parameters:\n",
    "* Set `epochs` to the number of iterations until the network stops learning or start overfitting\n",
    "* Set `batch_size` to the highest number that your machine has memory for.  Most people set them to common sizes of memory:\n",
    " * 64\n",
    " * 128\n",
    " * 256\n",
    " * ...\n",
    "* Set `keep_probability` to the probability of keeping a node using dropout"
   ]
  },
  {
   "cell_type": "code",
   "execution_count": 131,
   "metadata": {
    "collapsed": true
   },
   "outputs": [],
   "source": [
    "# TODO: Tune Parameters\n",
    "epochs = 50\n",
    "batch_size = 256\n",
    "keep_probability = .815"
   ]
  },
  {
   "cell_type": "markdown",
   "metadata": {},
   "source": [
    "### Train on a Single CIFAR-10 Batch\n",
    "Instead of training the neural network on all the CIFAR-10 batches of data, let's use a single batch. This should save time while you iterate on the model to get a better accuracy.  Once the final validation accuracy is 50% or greater, run the model on all the data in the next section."
   ]
  },
  {
   "cell_type": "code",
   "execution_count": 143,
   "metadata": {
    "scrolled": false
   },
   "outputs": [
    {
     "name": "stdout",
     "output_type": "stream",
     "text": [
      "Checking the Training on a Single Batch...\n",
      "Epoch  1, CIFAR-10 Batch 1:  Training Loss: 2.076492, Validation Accuracy: 0.330600\n",
      "Epoch  2, CIFAR-10 Batch 1:  Training Loss: 1.758755, Validation Accuracy: 0.409800\n",
      "Epoch  3, CIFAR-10 Batch 1:  Training Loss: 1.477462, Validation Accuracy: 0.435400\n",
      "Epoch  4, CIFAR-10 Batch 1:  Training Loss: 1.161728, Validation Accuracy: 0.495800\n",
      "Epoch  5, CIFAR-10 Batch 1:  Training Loss: 0.976958, Validation Accuracy: 0.512000\n",
      "Epoch  6, CIFAR-10 Batch 1:  Training Loss: 0.858834, Validation Accuracy: 0.507800\n",
      "Epoch  7, CIFAR-10 Batch 1:  Training Loss: 0.669173, Validation Accuracy: 0.554200\n",
      "Epoch  8, CIFAR-10 Batch 1:  Training Loss: 0.540847, Validation Accuracy: 0.565600\n",
      "Epoch  9, CIFAR-10 Batch 1:  Training Loss: 0.480571, Validation Accuracy: 0.573400\n",
      "Epoch 10, CIFAR-10 Batch 1:  Training Loss: 0.362591, Validation Accuracy: 0.590400\n",
      "Epoch 11, CIFAR-10 Batch 1:  Training Loss: 0.302469, Validation Accuracy: 0.588600\n",
      "Epoch 12, CIFAR-10 Batch 1:  Training Loss: 0.208798, Validation Accuracy: 0.603200\n",
      "Epoch 13, CIFAR-10 Batch 1:  Training Loss: 0.224816, Validation Accuracy: 0.599200\n",
      "Epoch 14, CIFAR-10 Batch 1:  Training Loss: 0.140725, Validation Accuracy: 0.609600\n",
      "Epoch 15, CIFAR-10 Batch 1:  Training Loss: 0.133938, Validation Accuracy: 0.599600\n",
      "Epoch 16, CIFAR-10 Batch 1:  Training Loss: 0.122123, Validation Accuracy: 0.566400\n",
      "Epoch 17, CIFAR-10 Batch 1:  Training Loss: 0.069977, Validation Accuracy: 0.613400\n",
      "Epoch 18, CIFAR-10 Batch 1:  Training Loss: 0.045709, Validation Accuracy: 0.605800\n",
      "Epoch 19, CIFAR-10 Batch 1:  Training Loss: 0.039484, Validation Accuracy: 0.592800\n",
      "Epoch 20, CIFAR-10 Batch 1:  Training Loss: 0.032259, Validation Accuracy: 0.588000\n",
      "Epoch 21, CIFAR-10 Batch 1:  Training Loss: 0.034737, Validation Accuracy: 0.620000\n",
      "Epoch 22, CIFAR-10 Batch 1:  Training Loss: 0.019811, Validation Accuracy: 0.614400\n",
      "Epoch 23, CIFAR-10 Batch 1:  Training Loss: 0.020015, Validation Accuracy: 0.608000\n",
      "Epoch 24, CIFAR-10 Batch 1:  Training Loss: 0.024190, Validation Accuracy: 0.601200\n",
      "Epoch 25, CIFAR-10 Batch 1:  Training Loss: 0.017221, Validation Accuracy: 0.628000\n",
      "Epoch 26, CIFAR-10 Batch 1:  Training Loss: 0.004758, Validation Accuracy: 0.620200\n",
      "Epoch 27, CIFAR-10 Batch 1:  Training Loss: 0.003843, Validation Accuracy: 0.603200\n",
      "Epoch 28, CIFAR-10 Batch 1:  Training Loss: 0.004164, Validation Accuracy: 0.603600\n",
      "Epoch 29, CIFAR-10 Batch 1:  Training Loss: 0.003132, Validation Accuracy: 0.595400\n",
      "Epoch 30, CIFAR-10 Batch 1:  Training Loss: 0.004516, Validation Accuracy: 0.585200\n",
      "Epoch 31, CIFAR-10 Batch 1:  Training Loss: 0.002845, Validation Accuracy: 0.604200\n",
      "Epoch 32, CIFAR-10 Batch 1:  Training Loss: 0.001167, Validation Accuracy: 0.624800\n",
      "Epoch 33, CIFAR-10 Batch 1:  Training Loss: 0.000931, Validation Accuracy: 0.617600\n",
      "Epoch 34, CIFAR-10 Batch 1:  Training Loss: 0.000823, Validation Accuracy: 0.625400\n",
      "Epoch 35, CIFAR-10 Batch 1:  Training Loss: 0.000402, Validation Accuracy: 0.626000\n",
      "Epoch 36, CIFAR-10 Batch 1:  Training Loss: 0.001293, Validation Accuracy: 0.617400\n",
      "Epoch 37, CIFAR-10 Batch 1:  Training Loss: 0.000635, Validation Accuracy: 0.631200\n",
      "Epoch 38, CIFAR-10 Batch 1:  Training Loss: 0.000783, Validation Accuracy: 0.603400\n",
      "Epoch 39, CIFAR-10 Batch 1:  Training Loss: 0.000790, Validation Accuracy: 0.629200\n",
      "Epoch 40, CIFAR-10 Batch 1:  Training Loss: 0.000717, Validation Accuracy: 0.613200\n",
      "Epoch 41, CIFAR-10 Batch 1:  Training Loss: 0.000371, Validation Accuracy: 0.631600\n",
      "Epoch 42, CIFAR-10 Batch 1:  Training Loss: 0.000523, Validation Accuracy: 0.626600\n",
      "Epoch 43, CIFAR-10 Batch 1:  Training Loss: 0.000202, Validation Accuracy: 0.632400\n",
      "Epoch 44, CIFAR-10 Batch 1:  Training Loss: 0.000316, Validation Accuracy: 0.630600\n",
      "Epoch 45, CIFAR-10 Batch 1:  Training Loss: 0.000394, Validation Accuracy: 0.625400\n",
      "Epoch 46, CIFAR-10 Batch 1:  Training Loss: 0.000133, Validation Accuracy: 0.635400\n",
      "Epoch 47, CIFAR-10 Batch 1:  Training Loss: 0.000163, Validation Accuracy: 0.636800\n",
      "Epoch 48, CIFAR-10 Batch 1:  Training Loss: 0.000069, Validation Accuracy: 0.635400\n",
      "Epoch 49, CIFAR-10 Batch 1:  Training Loss: 0.000077, Validation Accuracy: 0.627000\n",
      "Epoch 50, CIFAR-10 Batch 1:  Training Loss: 0.000063, Validation Accuracy: 0.626000\n"
     ]
    }
   ],
   "source": [
    "\"\"\"\n",
    "DON'T MODIFY ANYTHING IN THIS CELL\n",
    "\"\"\"\n",
    "print('Checking the Training on a Single Batch...')\n",
    "with tf.Session() as sess:\n",
    "    # Initializing the variables\n",
    "    sess.run(tf.global_variables_initializer())\n",
    "    \n",
    "    # Training cycle\n",
    "    for epoch in range(epochs):\n",
    "        batch_i = 1\n",
    "        for batch_features, batch_labels in helper.load_preprocess_training_batch(batch_i, batch_size):\n",
    "            train_neural_network(sess, optimizer, keep_probability, batch_features, batch_labels)\n",
    "        print('Epoch {:>2}, CIFAR-10 Batch {}:  '.format(epoch + 1, batch_i), end='')\n",
    "        print_stats(sess, batch_features, batch_labels, cost, accuracy)"
   ]
  },
  {
   "cell_type": "markdown",
   "metadata": {},
   "source": [
    "### Fully Train the Model\n",
    "Now that you got a good accuracy with a single CIFAR-10 batch, try it with all five batches."
   ]
  },
  {
   "cell_type": "code",
   "execution_count": 144,
   "metadata": {
    "scrolled": false
   },
   "outputs": [
    {
     "name": "stdout",
     "output_type": "stream",
     "text": [
      "Training...\n",
      "Epoch  1, CIFAR-10 Batch 1:  Training Loss: 2.043322, Validation Accuracy: 0.341600\n",
      "Epoch  1, CIFAR-10 Batch 2:  Training Loss: 1.620146, Validation Accuracy: 0.415800\n",
      "Epoch  1, CIFAR-10 Batch 3:  Training Loss: 1.328262, Validation Accuracy: 0.452800\n",
      "Epoch  1, CIFAR-10 Batch 4:  Training Loss: 1.352551, Validation Accuracy: 0.480000\n",
      "Epoch  1, CIFAR-10 Batch 5:  Training Loss: 1.339193, Validation Accuracy: 0.527800\n",
      "Epoch  2, CIFAR-10 Batch 1:  Training Loss: 1.359720, Validation Accuracy: 0.545800\n",
      "Epoch  2, CIFAR-10 Batch 2:  Training Loss: 1.015225, Validation Accuracy: 0.563800\n",
      "Epoch  2, CIFAR-10 Batch 3:  Training Loss: 0.925464, Validation Accuracy: 0.508200\n",
      "Epoch  2, CIFAR-10 Batch 4:  Training Loss: 0.995619, Validation Accuracy: 0.593600\n",
      "Epoch  2, CIFAR-10 Batch 5:  Training Loss: 1.045311, Validation Accuracy: 0.579000\n",
      "Epoch  3, CIFAR-10 Batch 1:  Training Loss: 1.028141, Validation Accuracy: 0.597400\n",
      "Epoch  3, CIFAR-10 Batch 2:  Training Loss: 0.739271, Validation Accuracy: 0.609400\n",
      "Epoch  3, CIFAR-10 Batch 3:  Training Loss: 0.594355, Validation Accuracy: 0.627200\n",
      "Epoch  3, CIFAR-10 Batch 4:  Training Loss: 0.772757, Validation Accuracy: 0.638200\n",
      "Epoch  3, CIFAR-10 Batch 5:  Training Loss: 0.713222, Validation Accuracy: 0.632600\n",
      "Epoch  4, CIFAR-10 Batch 1:  Training Loss: 0.727307, Validation Accuracy: 0.628800\n",
      "Epoch  4, CIFAR-10 Batch 2:  Training Loss: 0.558754, Validation Accuracy: 0.631000\n",
      "Epoch  4, CIFAR-10 Batch 3:  Training Loss: 0.396579, Validation Accuracy: 0.671800\n",
      "Epoch  4, CIFAR-10 Batch 4:  Training Loss: 0.544886, Validation Accuracy: 0.654200\n",
      "Epoch  4, CIFAR-10 Batch 5:  Training Loss: 0.515578, Validation Accuracy: 0.651600\n",
      "Epoch  5, CIFAR-10 Batch 1:  Training Loss: 0.541827, Validation Accuracy: 0.671600\n",
      "Epoch  5, CIFAR-10 Batch 2:  Training Loss: 0.347917, Validation Accuracy: 0.664400\n",
      "Epoch  5, CIFAR-10 Batch 3:  Training Loss: 0.275764, Validation Accuracy: 0.680400\n",
      "Epoch  5, CIFAR-10 Batch 4:  Training Loss: 0.370249, Validation Accuracy: 0.678400\n",
      "Epoch  5, CIFAR-10 Batch 5:  Training Loss: 0.368010, Validation Accuracy: 0.664400\n",
      "Epoch  6, CIFAR-10 Batch 1:  Training Loss: 0.401982, Validation Accuracy: 0.683200\n",
      "Epoch  6, CIFAR-10 Batch 2:  Training Loss: 0.250201, Validation Accuracy: 0.673200\n",
      "Epoch  6, CIFAR-10 Batch 3:  Training Loss: 0.202786, Validation Accuracy: 0.685400\n",
      "Epoch  6, CIFAR-10 Batch 4:  Training Loss: 0.284062, Validation Accuracy: 0.675800\n",
      "Epoch  6, CIFAR-10 Batch 5:  Training Loss: 0.251505, Validation Accuracy: 0.669000\n",
      "Epoch  7, CIFAR-10 Batch 1:  Training Loss: 0.254331, Validation Accuracy: 0.702400\n",
      "Epoch  7, CIFAR-10 Batch 2:  Training Loss: 0.190882, Validation Accuracy: 0.698600\n",
      "Epoch  7, CIFAR-10 Batch 3:  Training Loss: 0.159426, Validation Accuracy: 0.684000\n",
      "Epoch  7, CIFAR-10 Batch 4:  Training Loss: 0.203910, Validation Accuracy: 0.683000\n",
      "Epoch  7, CIFAR-10 Batch 5:  Training Loss: 0.174889, Validation Accuracy: 0.697400\n",
      "Epoch  8, CIFAR-10 Batch 1:  Training Loss: 0.237839, Validation Accuracy: 0.694000\n",
      "Epoch  8, CIFAR-10 Batch 2:  Training Loss: 0.113081, Validation Accuracy: 0.693800\n",
      "Epoch  8, CIFAR-10 Batch 3:  Training Loss: 0.143669, Validation Accuracy: 0.692800\n",
      "Epoch  8, CIFAR-10 Batch 4:  Training Loss: 0.135028, Validation Accuracy: 0.705200\n",
      "Epoch  8, CIFAR-10 Batch 5:  Training Loss: 0.097642, Validation Accuracy: 0.702400\n",
      "Epoch  9, CIFAR-10 Batch 1:  Training Loss: 0.132745, Validation Accuracy: 0.700400\n",
      "Epoch  9, CIFAR-10 Batch 2:  Training Loss: 0.074977, Validation Accuracy: 0.708000\n",
      "Epoch  9, CIFAR-10 Batch 3:  Training Loss: 0.075111, Validation Accuracy: 0.706600\n",
      "Epoch  9, CIFAR-10 Batch 4:  Training Loss: 0.094334, Validation Accuracy: 0.699200\n",
      "Epoch  9, CIFAR-10 Batch 5:  Training Loss: 0.052087, Validation Accuracy: 0.716400\n",
      "Epoch 10, CIFAR-10 Batch 1:  Training Loss: 0.113818, Validation Accuracy: 0.717200\n",
      "Epoch 10, CIFAR-10 Batch 2:  Training Loss: 0.046116, Validation Accuracy: 0.707600\n",
      "Epoch 10, CIFAR-10 Batch 3:  Training Loss: 0.061727, Validation Accuracy: 0.690800\n",
      "Epoch 10, CIFAR-10 Batch 4:  Training Loss: 0.060217, Validation Accuracy: 0.703400\n",
      "Epoch 10, CIFAR-10 Batch 5:  Training Loss: 0.028599, Validation Accuracy: 0.719000\n",
      "Epoch 11, CIFAR-10 Batch 1:  Training Loss: 0.064004, Validation Accuracy: 0.727400\n",
      "Epoch 11, CIFAR-10 Batch 2:  Training Loss: 0.035743, Validation Accuracy: 0.713000\n",
      "Epoch 11, CIFAR-10 Batch 3:  Training Loss: 0.039767, Validation Accuracy: 0.701200\n",
      "Epoch 11, CIFAR-10 Batch 4:  Training Loss: 0.053651, Validation Accuracy: 0.703600\n",
      "Epoch 11, CIFAR-10 Batch 5:  Training Loss: 0.024406, Validation Accuracy: 0.718600\n",
      "Epoch 12, CIFAR-10 Batch 1:  Training Loss: 0.045021, Validation Accuracy: 0.707000\n",
      "Epoch 12, CIFAR-10 Batch 2:  Training Loss: 0.023204, Validation Accuracy: 0.710600\n",
      "Epoch 12, CIFAR-10 Batch 3:  Training Loss: 0.044298, Validation Accuracy: 0.684400\n",
      "Epoch 12, CIFAR-10 Batch 4:  Training Loss: 0.024461, Validation Accuracy: 0.707000\n",
      "Epoch 12, CIFAR-10 Batch 5:  Training Loss: 0.012314, Validation Accuracy: 0.711000\n",
      "Epoch 13, CIFAR-10 Batch 1:  Training Loss: 0.039090, Validation Accuracy: 0.719200\n",
      "Epoch 13, CIFAR-10 Batch 2:  Training Loss: 0.020203, Validation Accuracy: 0.712600\n",
      "Epoch 13, CIFAR-10 Batch 3:  Training Loss: 0.016494, Validation Accuracy: 0.697600\n",
      "Epoch 13, CIFAR-10 Batch 4:  Training Loss: 0.031026, Validation Accuracy: 0.697200\n",
      "Epoch 13, CIFAR-10 Batch 5:  Training Loss: 0.011974, Validation Accuracy: 0.701800\n",
      "Epoch 14, CIFAR-10 Batch 1:  Training Loss: 0.023307, Validation Accuracy: 0.711400\n",
      "Epoch 14, CIFAR-10 Batch 2:  Training Loss: 0.018595, Validation Accuracy: 0.705600\n",
      "Epoch 14, CIFAR-10 Batch 3:  Training Loss: 0.007614, Validation Accuracy: 0.713200\n",
      "Epoch 14, CIFAR-10 Batch 4:  Training Loss: 0.012471, Validation Accuracy: 0.708000\n",
      "Epoch 14, CIFAR-10 Batch 5:  Training Loss: 0.004865, Validation Accuracy: 0.714800\n",
      "Epoch 15, CIFAR-10 Batch 1:  Training Loss: 0.011461, Validation Accuracy: 0.708800\n",
      "Epoch 15, CIFAR-10 Batch 2:  Training Loss: 0.007833, Validation Accuracy: 0.709200\n",
      "Epoch 15, CIFAR-10 Batch 3:  Training Loss: 0.011444, Validation Accuracy: 0.711200\n",
      "Epoch 15, CIFAR-10 Batch 4:  Training Loss: 0.008669, Validation Accuracy: 0.720000\n",
      "Epoch 15, CIFAR-10 Batch 5:  Training Loss: 0.003666, Validation Accuracy: 0.720800\n",
      "Epoch 16, CIFAR-10 Batch 1:  Training Loss: 0.008286, Validation Accuracy: 0.711000\n",
      "Epoch 16, CIFAR-10 Batch 2:  Training Loss: 0.007228, Validation Accuracy: 0.709600\n",
      "Epoch 16, CIFAR-10 Batch 3:  Training Loss: 0.004563, Validation Accuracy: 0.713200\n",
      "Epoch 16, CIFAR-10 Batch 4:  Training Loss: 0.012761, Validation Accuracy: 0.721000\n",
      "Epoch 16, CIFAR-10 Batch 5:  Training Loss: 0.003362, Validation Accuracy: 0.714600\n",
      "Epoch 17, CIFAR-10 Batch 1:  Training Loss: 0.014586, Validation Accuracy: 0.680800\n",
      "Epoch 17, CIFAR-10 Batch 2:  Training Loss: 0.006119, Validation Accuracy: 0.716800\n",
      "Epoch 17, CIFAR-10 Batch 3:  Training Loss: 0.002271, Validation Accuracy: 0.708000\n",
      "Epoch 17, CIFAR-10 Batch 4:  Training Loss: 0.003743, Validation Accuracy: 0.717800\n",
      "Epoch 17, CIFAR-10 Batch 5:  Training Loss: 0.002867, Validation Accuracy: 0.715200\n",
      "Epoch 18, CIFAR-10 Batch 1:  Training Loss: 0.005173, Validation Accuracy: 0.688200\n",
      "Epoch 18, CIFAR-10 Batch 2:  Training Loss: 0.004775, Validation Accuracy: 0.709600\n",
      "Epoch 18, CIFAR-10 Batch 3:  Training Loss: 0.001407, Validation Accuracy: 0.712000\n",
      "Epoch 18, CIFAR-10 Batch 4:  Training Loss: 0.004806, Validation Accuracy: 0.729200\n",
      "Epoch 18, CIFAR-10 Batch 5:  Training Loss: 0.001176, Validation Accuracy: 0.712600\n",
      "Epoch 19, CIFAR-10 Batch 1:  Training Loss: 0.001628, Validation Accuracy: 0.708600\n",
      "Epoch 19, CIFAR-10 Batch 2:  Training Loss: 0.007106, Validation Accuracy: 0.724400\n",
      "Epoch 19, CIFAR-10 Batch 3:  Training Loss: 0.001723, Validation Accuracy: 0.721800\n",
      "Epoch 19, CIFAR-10 Batch 4:  Training Loss: 0.001519, Validation Accuracy: 0.717800\n",
      "Epoch 19, CIFAR-10 Batch 5:  Training Loss: 0.001614, Validation Accuracy: 0.707800\n",
      "Epoch 20, CIFAR-10 Batch 1:  Training Loss: 0.003029, Validation Accuracy: 0.716600\n",
      "Epoch 20, CIFAR-10 Batch 2:  Training Loss: 0.002967, Validation Accuracy: 0.724200\n"
     ]
    },
    {
     "name": "stdout",
     "output_type": "stream",
     "text": [
      "Epoch 20, CIFAR-10 Batch 3:  Training Loss: 0.000448, Validation Accuracy: 0.726800\n",
      "Epoch 20, CIFAR-10 Batch 4:  Training Loss: 0.000796, Validation Accuracy: 0.716200\n",
      "Epoch 20, CIFAR-10 Batch 5:  Training Loss: 0.000595, Validation Accuracy: 0.712600\n",
      "Epoch 21, CIFAR-10 Batch 1:  Training Loss: 0.001571, Validation Accuracy: 0.717600\n",
      "Epoch 21, CIFAR-10 Batch 2:  Training Loss: 0.001809, Validation Accuracy: 0.723400\n",
      "Epoch 21, CIFAR-10 Batch 3:  Training Loss: 0.000508, Validation Accuracy: 0.723200\n",
      "Epoch 21, CIFAR-10 Batch 4:  Training Loss: 0.001775, Validation Accuracy: 0.712600\n",
      "Epoch 21, CIFAR-10 Batch 5:  Training Loss: 0.000705, Validation Accuracy: 0.725600\n",
      "Epoch 22, CIFAR-10 Batch 1:  Training Loss: 0.000620, Validation Accuracy: 0.726600\n",
      "Epoch 22, CIFAR-10 Batch 2:  Training Loss: 0.000143, Validation Accuracy: 0.732800\n",
      "Epoch 22, CIFAR-10 Batch 3:  Training Loss: 0.000666, Validation Accuracy: 0.724800\n",
      "Epoch 22, CIFAR-10 Batch 4:  Training Loss: 0.001226, Validation Accuracy: 0.707800\n",
      "Epoch 22, CIFAR-10 Batch 5:  Training Loss: 0.000810, Validation Accuracy: 0.728800\n",
      "Epoch 23, CIFAR-10 Batch 1:  Training Loss: 0.001106, Validation Accuracy: 0.719200\n",
      "Epoch 23, CIFAR-10 Batch 2:  Training Loss: 0.001134, Validation Accuracy: 0.724600\n",
      "Epoch 23, CIFAR-10 Batch 3:  Training Loss: 0.000513, Validation Accuracy: 0.718000\n",
      "Epoch 23, CIFAR-10 Batch 4:  Training Loss: 0.000381, Validation Accuracy: 0.710400\n",
      "Epoch 23, CIFAR-10 Batch 5:  Training Loss: 0.000549, Validation Accuracy: 0.719400\n",
      "Epoch 24, CIFAR-10 Batch 1:  Training Loss: 0.000969, Validation Accuracy: 0.725600\n",
      "Epoch 24, CIFAR-10 Batch 2:  Training Loss: 0.000681, Validation Accuracy: 0.735200\n",
      "Epoch 24, CIFAR-10 Batch 3:  Training Loss: 0.000710, Validation Accuracy: 0.725800\n",
      "Epoch 24, CIFAR-10 Batch 4:  Training Loss: 0.000236, Validation Accuracy: 0.728600\n",
      "Epoch 24, CIFAR-10 Batch 5:  Training Loss: 0.000219, Validation Accuracy: 0.729800\n",
      "Epoch 25, CIFAR-10 Batch 1:  Training Loss: 0.000964, Validation Accuracy: 0.725800\n",
      "Epoch 25, CIFAR-10 Batch 2:  Training Loss: 0.000249, Validation Accuracy: 0.725600\n",
      "Epoch 25, CIFAR-10 Batch 3:  Training Loss: 0.000559, Validation Accuracy: 0.726400\n",
      "Epoch 25, CIFAR-10 Batch 4:  Training Loss: 0.000609, Validation Accuracy: 0.733800\n",
      "Epoch 25, CIFAR-10 Batch 5:  Training Loss: 0.000464, Validation Accuracy: 0.722800\n",
      "Epoch 26, CIFAR-10 Batch 1:  Training Loss: 0.000883, Validation Accuracy: 0.725000\n",
      "Epoch 26, CIFAR-10 Batch 2:  Training Loss: 0.000274, Validation Accuracy: 0.724400\n",
      "Epoch 26, CIFAR-10 Batch 3:  Training Loss: 0.000129, Validation Accuracy: 0.714800\n",
      "Epoch 26, CIFAR-10 Batch 4:  Training Loss: 0.000331, Validation Accuracy: 0.725200\n",
      "Epoch 26, CIFAR-10 Batch 5:  Training Loss: 0.000134, Validation Accuracy: 0.720400\n",
      "Epoch 27, CIFAR-10 Batch 1:  Training Loss: 0.000164, Validation Accuracy: 0.722200\n",
      "Epoch 27, CIFAR-10 Batch 2:  Training Loss: 0.000158, Validation Accuracy: 0.721000\n",
      "Epoch 27, CIFAR-10 Batch 3:  Training Loss: 0.000129, Validation Accuracy: 0.721800\n",
      "Epoch 27, CIFAR-10 Batch 4:  Training Loss: 0.000133, Validation Accuracy: 0.730600\n",
      "Epoch 27, CIFAR-10 Batch 5:  Training Loss: 0.000715, Validation Accuracy: 0.720000\n",
      "Epoch 28, CIFAR-10 Batch 1:  Training Loss: 0.000537, Validation Accuracy: 0.721800\n",
      "Epoch 28, CIFAR-10 Batch 2:  Training Loss: 0.000339, Validation Accuracy: 0.732000\n",
      "Epoch 28, CIFAR-10 Batch 3:  Training Loss: 0.000130, Validation Accuracy: 0.726200\n",
      "Epoch 28, CIFAR-10 Batch 4:  Training Loss: 0.000163, Validation Accuracy: 0.729600\n",
      "Epoch 28, CIFAR-10 Batch 5:  Training Loss: 0.000411, Validation Accuracy: 0.720800\n",
      "Epoch 29, CIFAR-10 Batch 1:  Training Loss: 0.000769, Validation Accuracy: 0.724200\n",
      "Epoch 29, CIFAR-10 Batch 2:  Training Loss: 0.000224, Validation Accuracy: 0.725400\n",
      "Epoch 29, CIFAR-10 Batch 3:  Training Loss: 0.000139, Validation Accuracy: 0.706000\n",
      "Epoch 29, CIFAR-10 Batch 4:  Training Loss: 0.000282, Validation Accuracy: 0.720200\n",
      "Epoch 29, CIFAR-10 Batch 5:  Training Loss: 0.000138, Validation Accuracy: 0.704200\n",
      "Epoch 30, CIFAR-10 Batch 1:  Training Loss: 0.000916, Validation Accuracy: 0.715800\n",
      "Epoch 30, CIFAR-10 Batch 2:  Training Loss: 0.000759, Validation Accuracy: 0.723600\n",
      "Epoch 30, CIFAR-10 Batch 3:  Training Loss: 0.000262, Validation Accuracy: 0.720000\n",
      "Epoch 30, CIFAR-10 Batch 4:  Training Loss: 0.000339, Validation Accuracy: 0.732800\n",
      "Epoch 30, CIFAR-10 Batch 5:  Training Loss: 0.000120, Validation Accuracy: 0.718200\n",
      "Epoch 31, CIFAR-10 Batch 1:  Training Loss: 0.000391, Validation Accuracy: 0.723000\n",
      "Epoch 31, CIFAR-10 Batch 2:  Training Loss: 0.000113, Validation Accuracy: 0.717000\n",
      "Epoch 31, CIFAR-10 Batch 3:  Training Loss: 0.000698, Validation Accuracy: 0.715000\n",
      "Epoch 31, CIFAR-10 Batch 4:  Training Loss: 0.000156, Validation Accuracy: 0.725800\n",
      "Epoch 31, CIFAR-10 Batch 5:  Training Loss: 0.000190, Validation Accuracy: 0.721600\n",
      "Epoch 32, CIFAR-10 Batch 1:  Training Loss: 0.000494, Validation Accuracy: 0.723600\n",
      "Epoch 32, CIFAR-10 Batch 2:  Training Loss: 0.000178, Validation Accuracy: 0.721000\n",
      "Epoch 32, CIFAR-10 Batch 3:  Training Loss: 0.000044, Validation Accuracy: 0.722000\n",
      "Epoch 32, CIFAR-10 Batch 4:  Training Loss: 0.000265, Validation Accuracy: 0.725000\n",
      "Epoch 32, CIFAR-10 Batch 5:  Training Loss: 0.000249, Validation Accuracy: 0.708200\n",
      "Epoch 33, CIFAR-10 Batch 1:  Training Loss: 0.000154, Validation Accuracy: 0.725200\n",
      "Epoch 33, CIFAR-10 Batch 2:  Training Loss: 0.000099, Validation Accuracy: 0.729600\n",
      "Epoch 33, CIFAR-10 Batch 3:  Training Loss: 0.000525, Validation Accuracy: 0.720400\n",
      "Epoch 33, CIFAR-10 Batch 4:  Training Loss: 0.000346, Validation Accuracy: 0.724400\n",
      "Epoch 33, CIFAR-10 Batch 5:  Training Loss: 0.001168, Validation Accuracy: 0.713000\n",
      "Epoch 34, CIFAR-10 Batch 1:  Training Loss: 0.000853, Validation Accuracy: 0.715200\n",
      "Epoch 34, CIFAR-10 Batch 2:  Training Loss: 0.000164, Validation Accuracy: 0.722600\n",
      "Epoch 34, CIFAR-10 Batch 3:  Training Loss: 0.001339, Validation Accuracy: 0.719200\n",
      "Epoch 34, CIFAR-10 Batch 4:  Training Loss: 0.000113, Validation Accuracy: 0.723400\n",
      "Epoch 34, CIFAR-10 Batch 5:  Training Loss: 0.000385, Validation Accuracy: 0.717400\n",
      "Epoch 35, CIFAR-10 Batch 1:  Training Loss: 0.000621, Validation Accuracy: 0.716000\n",
      "Epoch 35, CIFAR-10 Batch 2:  Training Loss: 0.004166, Validation Accuracy: 0.714400\n",
      "Epoch 35, CIFAR-10 Batch 3:  Training Loss: 0.000419, Validation Accuracy: 0.721400\n",
      "Epoch 35, CIFAR-10 Batch 4:  Training Loss: 0.002284, Validation Accuracy: 0.714400\n",
      "Epoch 35, CIFAR-10 Batch 5:  Training Loss: 0.000178, Validation Accuracy: 0.724000\n",
      "Epoch 36, CIFAR-10 Batch 1:  Training Loss: 0.002006, Validation Accuracy: 0.700600\n",
      "Epoch 36, CIFAR-10 Batch 2:  Training Loss: 0.000083, Validation Accuracy: 0.722800\n",
      "Epoch 36, CIFAR-10 Batch 3:  Training Loss: 0.000076, Validation Accuracy: 0.722800\n",
      "Epoch 36, CIFAR-10 Batch 4:  Training Loss: 0.001246, Validation Accuracy: 0.719200\n",
      "Epoch 36, CIFAR-10 Batch 5:  Training Loss: 0.000210, Validation Accuracy: 0.718000\n",
      "Epoch 37, CIFAR-10 Batch 1:  Training Loss: 0.000034, Validation Accuracy: 0.719200\n",
      "Epoch 37, CIFAR-10 Batch 2:  Training Loss: 0.000011, Validation Accuracy: 0.728000\n",
      "Epoch 37, CIFAR-10 Batch 3:  Training Loss: 0.000062, Validation Accuracy: 0.726200\n",
      "Epoch 37, CIFAR-10 Batch 4:  Training Loss: 0.000043, Validation Accuracy: 0.730000\n",
      "Epoch 37, CIFAR-10 Batch 5:  Training Loss: 0.000185, Validation Accuracy: 0.717400\n",
      "Epoch 38, CIFAR-10 Batch 1:  Training Loss: 0.000437, Validation Accuracy: 0.720800\n",
      "Epoch 38, CIFAR-10 Batch 2:  Training Loss: 0.000183, Validation Accuracy: 0.717400\n",
      "Epoch 38, CIFAR-10 Batch 3:  Training Loss: 0.000034, Validation Accuracy: 0.720800\n",
      "Epoch 38, CIFAR-10 Batch 4:  Training Loss: 0.000078, Validation Accuracy: 0.722800\n",
      "Epoch 38, CIFAR-10 Batch 5:  Training Loss: 0.000199, Validation Accuracy: 0.724600\n",
      "Epoch 39, CIFAR-10 Batch 1:  Training Loss: 0.000183, Validation Accuracy: 0.710400\n",
      "Epoch 39, CIFAR-10 Batch 2:  Training Loss: 0.000418, Validation Accuracy: 0.729400\n",
      "Epoch 39, CIFAR-10 Batch 3:  Training Loss: 0.000049, Validation Accuracy: 0.722200\n",
      "Epoch 39, CIFAR-10 Batch 4:  Training Loss: 0.000336, Validation Accuracy: 0.728200\n"
     ]
    },
    {
     "name": "stdout",
     "output_type": "stream",
     "text": [
      "Epoch 39, CIFAR-10 Batch 5:  Training Loss: 0.000041, Validation Accuracy: 0.727200\n",
      "Epoch 40, CIFAR-10 Batch 1:  Training Loss: 0.000144, Validation Accuracy: 0.727800\n",
      "Epoch 40, CIFAR-10 Batch 2:  Training Loss: 0.000045, Validation Accuracy: 0.718400\n",
      "Epoch 40, CIFAR-10 Batch 3:  Training Loss: 0.000180, Validation Accuracy: 0.729600\n",
      "Epoch 40, CIFAR-10 Batch 4:  Training Loss: 0.000088, Validation Accuracy: 0.732400\n",
      "Epoch 40, CIFAR-10 Batch 5:  Training Loss: 0.000024, Validation Accuracy: 0.724200\n",
      "Epoch 41, CIFAR-10 Batch 1:  Training Loss: 0.000142, Validation Accuracy: 0.716000\n",
      "Epoch 41, CIFAR-10 Batch 2:  Training Loss: 0.000201, Validation Accuracy: 0.724000\n",
      "Epoch 41, CIFAR-10 Batch 3:  Training Loss: 0.000127, Validation Accuracy: 0.728000\n",
      "Epoch 41, CIFAR-10 Batch 4:  Training Loss: 0.000730, Validation Accuracy: 0.730200\n",
      "Epoch 41, CIFAR-10 Batch 5:  Training Loss: 0.000403, Validation Accuracy: 0.727800\n",
      "Epoch 42, CIFAR-10 Batch 1:  Training Loss: 0.001097, Validation Accuracy: 0.714200\n",
      "Epoch 42, CIFAR-10 Batch 2:  Training Loss: 0.000075, Validation Accuracy: 0.727400\n",
      "Epoch 42, CIFAR-10 Batch 3:  Training Loss: 0.000077, Validation Accuracy: 0.724200\n",
      "Epoch 42, CIFAR-10 Batch 4:  Training Loss: 0.000276, Validation Accuracy: 0.729400\n",
      "Epoch 42, CIFAR-10 Batch 5:  Training Loss: 0.000052, Validation Accuracy: 0.714000\n",
      "Epoch 43, CIFAR-10 Batch 1:  Training Loss: 0.000124, Validation Accuracy: 0.721000\n",
      "Epoch 43, CIFAR-10 Batch 2:  Training Loss: 0.000108, Validation Accuracy: 0.726000\n",
      "Epoch 43, CIFAR-10 Batch 3:  Training Loss: 0.000170, Validation Accuracy: 0.714200\n",
      "Epoch 43, CIFAR-10 Batch 4:  Training Loss: 0.012780, Validation Accuracy: 0.715600\n",
      "Epoch 43, CIFAR-10 Batch 5:  Training Loss: 0.000031, Validation Accuracy: 0.720800\n",
      "Epoch 44, CIFAR-10 Batch 1:  Training Loss: 0.000159, Validation Accuracy: 0.728400\n",
      "Epoch 44, CIFAR-10 Batch 2:  Training Loss: 0.000063, Validation Accuracy: 0.728200\n",
      "Epoch 44, CIFAR-10 Batch 3:  Training Loss: 0.000047, Validation Accuracy: 0.722200\n",
      "Epoch 44, CIFAR-10 Batch 4:  Training Loss: 0.000035, Validation Accuracy: 0.730600\n",
      "Epoch 44, CIFAR-10 Batch 5:  Training Loss: 0.000013, Validation Accuracy: 0.727000\n",
      "Epoch 45, CIFAR-10 Batch 1:  Training Loss: 0.000025, Validation Accuracy: 0.729800\n",
      "Epoch 45, CIFAR-10 Batch 2:  Training Loss: 0.000061, Validation Accuracy: 0.724600\n",
      "Epoch 45, CIFAR-10 Batch 3:  Training Loss: 0.000115, Validation Accuracy: 0.723400\n",
      "Epoch 45, CIFAR-10 Batch 4:  Training Loss: 0.000035, Validation Accuracy: 0.734600\n",
      "Epoch 45, CIFAR-10 Batch 5:  Training Loss: 0.000098, Validation Accuracy: 0.727600\n",
      "Epoch 46, CIFAR-10 Batch 1:  Training Loss: 0.000066, Validation Accuracy: 0.726200\n",
      "Epoch 46, CIFAR-10 Batch 2:  Training Loss: 0.000050, Validation Accuracy: 0.725800\n",
      "Epoch 46, CIFAR-10 Batch 3:  Training Loss: 0.000275, Validation Accuracy: 0.725200\n",
      "Epoch 46, CIFAR-10 Batch 4:  Training Loss: 0.000199, Validation Accuracy: 0.729000\n",
      "Epoch 46, CIFAR-10 Batch 5:  Training Loss: 0.000070, Validation Accuracy: 0.711200\n",
      "Epoch 47, CIFAR-10 Batch 1:  Training Loss: 0.000207, Validation Accuracy: 0.725200\n",
      "Epoch 47, CIFAR-10 Batch 2:  Training Loss: 0.000567, Validation Accuracy: 0.726800\n",
      "Epoch 47, CIFAR-10 Batch 3:  Training Loss: 0.000062, Validation Accuracy: 0.724600\n",
      "Epoch 47, CIFAR-10 Batch 4:  Training Loss: 0.000048, Validation Accuracy: 0.735200\n",
      "Epoch 47, CIFAR-10 Batch 5:  Training Loss: 0.000076, Validation Accuracy: 0.716200\n",
      "Epoch 48, CIFAR-10 Batch 1:  Training Loss: 0.000029, Validation Accuracy: 0.711800\n",
      "Epoch 48, CIFAR-10 Batch 2:  Training Loss: 0.046147, Validation Accuracy: 0.718200\n",
      "Epoch 48, CIFAR-10 Batch 3:  Training Loss: 0.000533, Validation Accuracy: 0.718400\n",
      "Epoch 48, CIFAR-10 Batch 4:  Training Loss: 0.000112, Validation Accuracy: 0.726600\n",
      "Epoch 48, CIFAR-10 Batch 5:  Training Loss: 0.000071, Validation Accuracy: 0.724000\n",
      "Epoch 49, CIFAR-10 Batch 1:  Training Loss: 0.000052, Validation Accuracy: 0.726800\n",
      "Epoch 49, CIFAR-10 Batch 2:  Training Loss: 0.000009, Validation Accuracy: 0.732400\n",
      "Epoch 49, CIFAR-10 Batch 3:  Training Loss: 0.000398, Validation Accuracy: 0.720600\n",
      "Epoch 49, CIFAR-10 Batch 4:  Training Loss: 0.000082, Validation Accuracy: 0.724200\n",
      "Epoch 49, CIFAR-10 Batch 5:  Training Loss: 0.000035, Validation Accuracy: 0.721600\n",
      "Epoch 50, CIFAR-10 Batch 1:  Training Loss: 0.000047, Validation Accuracy: 0.724200\n",
      "Epoch 50, CIFAR-10 Batch 2:  Training Loss: 0.000090, Validation Accuracy: 0.719800\n",
      "Epoch 50, CIFAR-10 Batch 3:  Training Loss: 0.000089, Validation Accuracy: 0.724800\n",
      "Epoch 50, CIFAR-10 Batch 4:  Training Loss: 0.000027, Validation Accuracy: 0.725800\n",
      "Epoch 50, CIFAR-10 Batch 5:  Training Loss: 0.000048, Validation Accuracy: 0.721800\n"
     ]
    }
   ],
   "source": [
    "\"\"\"\n",
    "DON'T MODIFY ANYTHING IN THIS CELL\n",
    "\"\"\"\n",
    "save_model_path = './image_classification'\n",
    "\n",
    "print('Training...')\n",
    "with tf.Session() as sess:\n",
    "    # Initializing the variables\n",
    "    sess.run(tf.global_variables_initializer())\n",
    "    \n",
    "    # Training cycle\n",
    "    for epoch in range(epochs):\n",
    "        # Loop over all batches\n",
    "        n_batches = 5\n",
    "        for batch_i in range(1, n_batches + 1):\n",
    "            for batch_features, batch_labels in helper.load_preprocess_training_batch(batch_i, batch_size):\n",
    "                train_neural_network(sess, optimizer, keep_probability, batch_features, batch_labels)\n",
    "            print('Epoch {:>2}, CIFAR-10 Batch {}:  '.format(epoch + 1, batch_i), end='')\n",
    "            print_stats(sess, batch_features, batch_labels, cost, accuracy)\n",
    "            \n",
    "    # Save Model\n",
    "    saver = tf.train.Saver()\n",
    "    save_path = saver.save(sess, save_model_path)"
   ]
  },
  {
   "cell_type": "markdown",
   "metadata": {},
   "source": [
    "# Checkpoint\n",
    "The model has been saved to disk.\n",
    "## Test Model\n",
    "Test your model against the test dataset.  This will be your final accuracy. You should have an accuracy greater than 50%. If you don't, keep tweaking the model architecture and parameters."
   ]
  },
  {
   "cell_type": "code",
   "execution_count": 145,
   "metadata": {},
   "outputs": [
    {
     "name": "stdout",
     "output_type": "stream",
     "text": [
      "INFO:tensorflow:Restoring parameters from ./image_classification\n",
      "Testing Accuracy: 0.72109375\n",
      "\n"
     ]
    },
    {
     "data": {
      "image/png": "[encoded data removed]",
      "text/plain": [
       "<matplotlib.figure.Figure at 0x181933d1cf8>"
      ]
     },
     "metadata": {
      "image/png": {
       "height": 319,
       "width": 355
      }
     },
     "output_type": "display_data"
    }
   ],
   "source": [
    "\"\"\"\n",
    "DON'T MODIFY ANYTHING IN THIS CELL\n",
    "\"\"\"\n",
    "%matplotlib inline\n",
    "%config InlineBackend.figure_format = 'retina'\n",
    "\n",
    "import tensorflow as tf\n",
    "import pickle\n",
    "import helper\n",
    "import random\n",
    "\n",
    "# Set batch size if not already set\n",
    "try:\n",
    "    if batch_size:\n",
    "        pass\n",
    "except NameError:\n",
    "    batch_size = 64\n",
    "\n",
    "save_model_path = './image_classification'\n",
    "n_samples = 4\n",
    "top_n_predictions = 3\n",
    "\n",
    "def test_model():\n",
    "    \"\"\"\n",
    "    Test the saved model against the test dataset\n",
    "    \"\"\"\n",
    "\n",
    "    test_features, test_labels = pickle.load(open('preprocess_training.p', mode='rb'))\n",
    "    loaded_graph = tf.Graph()\n",
    "\n",
    "    with tf.Session(graph=loaded_graph) as sess:\n",
    "        # Load model\n",
    "        loader = tf.train.import_meta_graph(save_model_path + '.meta')\n",
    "        loader.restore(sess, save_model_path)\n",
    "\n",
    "        # Get Tensors from loaded model\n",
    "        loaded_x = loaded_graph.get_tensor_by_name('x:0')\n",
    "        loaded_y = loaded_graph.get_tensor_by_name('y:0')\n",
    "        loaded_keep_prob = loaded_graph.get_tensor_by_name('keep_prob:0')\n",
    "        loaded_logits = loaded_graph.get_tensor_by_name('logits:0')\n",
    "        loaded_acc = loaded_graph.get_tensor_by_name('accuracy:0')\n",
    "        \n",
    "        # Get accuracy in batches for memory limitations\n",
    "        test_batch_acc_total = 0\n",
    "        test_batch_count = 0\n",
    "        \n",
    "        for train_feature_batch, train_label_batch in helper.batch_features_labels(test_features, test_labels, batch_size):\n",
    "            test_batch_acc_total += sess.run(\n",
    "                loaded_acc,\n",
    "                feed_dict={loaded_x: train_feature_batch, loaded_y: train_label_batch, loaded_keep_prob: 1.0})\n",
    "            test_batch_count += 1\n",
    "\n",
    "        print('Testing Accuracy: {}\\n'.format(test_batch_acc_total/test_batch_count))\n",
    "\n",
    "        # Print Random Samples\n",
    "        random_test_features, random_test_labels = tuple(zip(*random.sample(list(zip(test_features, test_labels)), n_samples)))\n",
    "        random_test_predictions = sess.run(\n",
    "            tf.nn.top_k(tf.nn.softmax(loaded_logits), top_n_predictions),\n",
    "            feed_dict={loaded_x: random_test_features, loaded_y: random_test_labels, loaded_keep_prob: 1.0})\n",
    "        helper.display_image_predictions(random_test_features, random_test_labels, random_test_predictions)\n",
    "\n",
    "\n",
    "test_model()"
   ]
  },
  {
   "cell_type": "markdown",
   "metadata": {},
   "source": [
    "## Why 50-80% Accuracy?\n",
    "You might be wondering why you can't get an accuracy any higher. First things first, 50% isn't bad for a simple CNN.  Pure guessing would get you 10% accuracy. That's because there are many more techniques that can be applied to your model and we recemmond that once you are done with this project, you explore!\n",
    "\n",
    "## Submitting This Project\n",
    "When submitting this project, make sure to run all the cells before saving the notebook.  Save the notebook file as \"image_classification.ipynb\" and save it as a HTML file under \"File\" -> \"Download as\".  Include the \"helper.py\" and \"problem_unittests.py\" files in your submission."
   ]
  },
  {
   "cell_type": "markdown",
   "metadata": {},
   "source": [
    "# Questions\n",
    "\n",
    "Hi. I have a few questions, I hope that's okay.\n",
    "\n",
    "- Do you know whether the libraries (Tensorflow / SKLearn / Keras / etc) or whether some of the hardware have any optimization for calculations involving numbers that are in powers of two? \n",
    "> One of the lectures on [Convolutional Neural Networks by Andrej Karpathy at Stanford](https://youtu.be/LxfUGhug-iQ?t=22m25s) mentioned something like that. I haven't found anything in the documentation regarding this (though I would be honest I haven't searched long enough), and it would be good to know (OR - it's Andrej Karpathy, I guess we could take him at his word?). The reason I'm asking is: I tried a few other sets of numbers before the current set and am wondering whether performance was affected in any way.\n",
    "\n",
    "- Is my submission good enough in terms of accuracy? Were we allowed to bend the rules in any way and maybe make the network deeper than is allowed? I did try a few things - such as making the network deeper or wider or both - but computation got too slow for me to continue with them. \n",
    "\n",
    "- Within the constraints of the system, and assuming 80% is the upper bound with said constraints, is there a way to know what configuration would have pointed me closer to 80%?. What I mean to say is, for me it was partly hit and miss & partly inspiration from lectures, AlexNet, and others. For an isolated problem such as this one, is there a way to figure out an optimal configuration?\n",
    "\n",
    "Thank you."
   ]
  }
 ],
 "metadata": {
  "kernelspec": {
   "display_name": "Python 3",
   "language": "python",
   "name": "python3"
  },
  "language_info": {
   "codemirror_mode": {
    "name": "ipython",
    "version": 3
   },
   "file_extension": ".py",
   "mimetype": "text/x-python",
   "name": "python",
   "nbconvert_exporter": "python",
   "pygments_lexer": "ipython3",
   "version": "3.6.3"
  }
 },
 "nbformat": 4,
 "nbformat_minor": 1
}
